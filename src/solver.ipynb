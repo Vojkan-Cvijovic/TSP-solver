{
 "cells": [
  {
   "cell_type": "code",
   "execution_count": 1,
   "metadata": {},
   "outputs": [],
   "source": [
    "import random\n",
    "import math\n",
    "import operator\n",
    "import matplotlib.pyplot as plt\n",
    "import time"
   ]
  },
  {
   "cell_type": "code",
   "execution_count": 2,
   "metadata": {},
   "outputs": [],
   "source": [
    "class Graph(object):\n",
    "    def __init__(self, distances: list, rank: int):\n",
    "        self.distances = distances\n",
    "        self.rank = rank\n",
    "        self.pheromone = [[1 / (rank * rank) for j in range(rank)] for i in range(rank)]\n"
   ]
  },
  {
   "cell_type": "markdown",
   "metadata": {},
   "source": [
    "### Graph\n",
    "Wrapper class which holds general information about cities such as:\n",
    " - <strong>distances</strong>: Matrix of distance between each city.\n",
    " - <strong>rank</strong>: Number of cities, all cities are interconnected.\n",
    " - <strong>pheromone</strong>: Matrix of pheromone level between cities."
   ]
  },
  {
   "cell_type": "code",
   "execution_count": 3,
   "metadata": {},
   "outputs": [],
   "source": [
    "class ACS(object):\n",
    "    def __init__(self, ant_count: int, generations: int, alpha: float, beta: float, rho: float, q: int):\n",
    "        self.generations = generations\n",
    "        self.ant_count = ant_count\n",
    "        self.alpha = alpha\n",
    "        self.beta = beta\n",
    "        self.rho = rho\n",
    "        self.Q = q        "
   ]
  },
  {
   "cell_type": "markdown",
   "metadata": {},
   "source": [
    "### ACS\n",
    "Ant Colony System is a system which will be used to solve $TSP$ problem with $ACO$ optimization.\n",
    " - <strong>generations</strong>: Number of generations that will be created.\n",
    " - <strong>ant_count</strong>: Number of ants that will be created in each generation.\n",
    " - <strong>alpha</strong>: Positive metaparameter which determines phermone influence.\n",
    " - <strong>beta</strong>: Positive metaparameter which determines distance influence.\n",
    " - <strong>rho</strong>: Positive metaparameter in range(0, 1).\n",
    " - <strong>Q</strong>: Positive metaparameter.\n",
    " "
   ]
  },
  {
   "cell_type": "code",
   "execution_count": 4,
   "metadata": {},
   "outputs": [],
   "source": [
    "\n",
    "def update_pheromone(self, graph: Graph, ants: list):\n",
    "        for i, row in enumerate(graph.pheromone):\n",
    "            for j, col in enumerate(row):\n",
    "                sum_ants_pheromone_delta = 0\n",
    "                for ant in ants:\n",
    "                    sum_ants_pheromone_delta += ant.pheromone_delta[i][j]\n",
    "                graph.pheromone[i][j] = (1 - self.rho) * graph.pheromone[i][j] + sum_ants_pheromone_delta\n",
    "                \n",
    "ACS.update_pheromone = update_pheromone"
   ]
  },
  {
   "cell_type": "markdown",
   "metadata": {},
   "source": [
    "### Updating pheromone\n",
    "Method which updates matrix of pheromone levels between each city by using formulas:\n",
    "\n",
    "$$t_{i,j} = (1-\\rho) * t_{i,j} + \\Delta t_{i,j}$$\n",
    "\n",
    "$$\\Delta t_{i,j}  = \\sum_{k=1}^{m} \\Delta t^k_{i,j}$$\n",
    "\n"
   ]
  },
  {
   "cell_type": "code",
   "execution_count": 5,
   "metadata": {},
   "outputs": [],
   "source": [
    "\n",
    "def solve(self, graph: Graph):\n",
    "        best_cost = float('inf')\n",
    "        best_solution = []\n",
    "        for _ in range(self.generations):\n",
    "            ants = [Ant(self, graph) for i in range(self.ant_count)]\n",
    "            for ant in ants:\n",
    "                for i in range(graph.rank - 1):\n",
    "                    ant.select_next_node()\n",
    "                ant.total_cost += graph.distances[ant.visited_nodes[-1]][ant.visited_nodes[0]]\n",
    "                if ant.total_cost < best_cost:\n",
    "                    best_cost = ant.total_cost\n",
    "                    best_solution = [] + ant.visited_nodes\n",
    "                ant.update_pheromone_delta()\n",
    "            self.update_pheromone(graph, ants)\n",
    "        return best_solution, best_cost\n",
    "    \n",
    "ACS.solve = solve"
   ]
  },
  {
   "cell_type": "markdown",
   "metadata": {},
   "source": [
    "### Solve\n",
    "Method which finds best solution and best traverse cost for solving TSP on given graph.\n",
    "\n",
    "It creates specified number of generations and within each generation specified number of ants. \n",
    "These ants are traversing through entire Graph, visiting each Node only once. In the process ants are storing total traverse cost and order of visited nodes.\n",
    "In the end each ant is updating it's pheromone_delta which will be used for updating pheromone level in entire system.\n",
    "\n",
    "After each generation paths which were frequently traversed by ants will have larger amounts of pheromone."
   ]
  },
  {
   "cell_type": "code",
   "execution_count": 6,
   "metadata": {},
   "outputs": [],
   "source": [
    "class Ant(object):\n",
    "    def __init__(self, acs: ACS, graph: Graph):\n",
    "        self.colony = acs\n",
    "        self.graph = graph\n",
    "        self.total_cost = 0.0\n",
    "        self.visited_nodes = []\n",
    "        self.pheromone_delta = []\n",
    "        self.unvisited_nodes = [i for i in range(graph.rank)]\n",
    "        start_node = random.randint(0, graph.rank - 1)\n",
    "        self.visited_nodes.append(start_node)\n",
    "        self.current_node = start_node\n",
    "        self.unvisited_nodes.remove(start_node)\n"
   ]
  },
  {
   "cell_type": "markdown",
   "metadata": {},
   "source": [
    "### Ant \n",
    "\n",
    "Class which represents ant in system. It contains fields which defer between ants.\n",
    " - <strong>colony</strong>: Ant Colony System in which ant is created.\n",
    " - <strong>graph</strong>: Graph for which ant is being used.\n",
    " - <strong>total_cost</strong>: Distance/cost of path ant traversed.\n",
    " - <strong>visited_nodes</strong>: Order in which ant traversed nodes.\n",
    " - <strong>pheromone_delta</strong>: Amount of pheromone single ant produces.\n",
    " - <strong>unvisited_nodes</strong>: List of nodes ant has not yet visited.\n",
    " - <strong>current_node</strong>: Index of node Ant is visiting. Initial node is selected by random.\n",
    "\n",
    " \n"
   ]
  },
  {
   "cell_type": "code",
   "execution_count": 7,
   "metadata": {},
   "outputs": [],
   "source": [
    "\n",
    "def select_next_node(self):\n",
    "    denominator = 0\n",
    "    for i in self.unvisited_nodes:\n",
    "        denominator += self.graph.pheromone[self.current_node][i] ** self.colony.alpha * \\\n",
    "            self.graph.distances[self.current_node][i] ** (-1 * self.colony.beta )\n",
    "\n",
    "    probabilities = [0 for i in range(self.graph.rank)]\n",
    "    for i in range(self.graph.rank):\n",
    "        try:\n",
    "            self.unvisited_nodes.index(i)  # test if allowed list contains i\n",
    "            probabilities[i] = self.graph.pheromone[self.current_node][i] ** self.colony.alpha * \\\n",
    "                self.graph.distances[self.current_node][i] ** (-1 * self.colony.beta) / denominator\n",
    "        except ValueError:\n",
    "            pass\n",
    "\n",
    "    # select next node by probability roulette\n",
    "    selected_node = 0\n",
    "    rand = random.random()\n",
    "    for i, probability in enumerate(probabilities):\n",
    "        rand -= probability\n",
    "        if rand <= 0:\n",
    "            selected_node = i\n",
    "            break\n",
    "\n",
    "    self.unvisited_nodes.remove(selected_node)\n",
    "    self.visited_nodes.append(selected_node)\n",
    "    self.total_cost += self.graph.distances[self.current_node][selected_node]\n",
    "    self.current_node = selected_node\n",
    "    \n",
    "Ant.select_next_node = select_next_node"
   ]
  },
  {
   "cell_type": "markdown",
   "metadata": {},
   "source": [
    "### Select next node\n",
    "\n",
    "Calculates probability for each not yet visited node to be visited by ant. Probability is determined by formula:\n",
    "\n",
    "$$p_{i,j} = {t_{i,j}^\\alpha * distance_{i,j}^{-\\beta} \\over \\sum_{l \\in J_k}^{} t_{i,j}^\\alpha * distance_{i,j}^{-\\beta} }$$\n",
    "\n",
    "Where $J_k$ is list of not yet visited nodes\n"
   ]
  },
  {
   "cell_type": "code",
   "execution_count": 8,
   "metadata": {},
   "outputs": [],
   "source": [
    "\n",
    "def update_pheromone_delta(self):\n",
    "        self.pheromone_delta = [[0 for j in range(self.graph.rank)] for i in range(self.graph.rank)]\n",
    "        for _ in range(1, len(self.visited_nodes)):\n",
    "            i = self.visited_nodes[_ - 1]\n",
    "            j = self.visited_nodes[_]\n",
    "            self.pheromone_delta[i][j] = self.colony.Q / self.total_cost\n",
    "            \n",
    "Ant.update_pheromone_delta = update_pheromone_delta"
   ]
  },
  {
   "cell_type": "markdown",
   "metadata": {},
   "source": [
    "### Update pheromone delta\n",
    "\n",
    "Updates ant's pheromone delta by initializing to 0 and only updating it for neighbour nodes by formula:\n",
    "\n",
    "$$\\Delta t^k_{i,j} = Q/L_k$$\n",
    "\n",
    "Where $L_k$ is traversed distance and $Q$ is metaparameter"
   ]
  },
  {
   "cell_type": "code",
   "execution_count": 9,
   "metadata": {},
   "outputs": [],
   "source": [
    "def distance(city1: dict, city2: dict):\n",
    "    return math.sqrt((city1['x'] - city2['x']) ** 2 + (city1['y'] - city2['y']) ** 2)"
   ]
  },
  {
   "cell_type": "code",
   "execution_count": 10,
   "metadata": {},
   "outputs": [],
   "source": [
    "def plot(points, path: list):\n",
    "    x = []\n",
    "    y = []\n",
    "    for point in points:\n",
    "        x.append(point[0])\n",
    "        y.append(point[1])\n",
    "    # noinspection PyUnusedLocal\n",
    "    y = list(map(operator.sub, [max(y) for i in range(len(points))], y))\n",
    "    plt.plot(x, y, 'co',color=\"red\")\n",
    "\n",
    "    for _ in range(1, len(path)):\n",
    "        i = path[_ - 1]\n",
    "        j = path[_]\n",
    "        # noinspection PyUnresolvedReferences\n",
    "        plt.arrow(x[i], y[i], x[j] - x[i], y[j] - y[i], color='black', length_includes_head=True)\n",
    "\n",
    "    # noinspection PyTypeChecker\n",
    "    plt.xlim(0, max(x) * 1.1)\n",
    "    # noinspection PyTypeChecker\n",
    "    plt.ylim(0, max(y) * 1.1)\n",
    "    plt.show()"
   ]
  },
  {
   "cell_type": "code",
   "execution_count": 11,
   "metadata": {},
   "outputs": [],
   "source": [
    "ant_count = 10\n",
    "generations = 100\n",
    "alpha = 1.0\n",
    "beta = 10.0\n",
    "rho = 0.5\n",
    "q = 10\n",
    "\n",
    "cities_144_file_name = \"cities-144.txt\"\n",
    "cities_31_file_name = \"cities-31.txt\"\n",
    "cities_48_file_name = \"cities-48.txt\""
   ]
  },
  {
   "cell_type": "code",
   "execution_count": 16,
   "metadata": {},
   "outputs": [],
   "source": [
    "def find_optimal_path(file_name):\n",
    "    cities = []\n",
    "    points = []\n",
    "    with open(\"./data/{}\".format(file_name)) as f:\n",
    "        for line in f.readlines():\n",
    "            city = line.split(' ')\n",
    "            cities.append(dict(index=int(city[0]), x=int(city[1]), y=int(city[2])))\n",
    "            points.append((int(city[1]), int(city[2])))\n",
    "    distances = []\n",
    "    number_of_cities = len(cities)\n",
    "    for i in range(number_of_cities):\n",
    "        row = []\n",
    "        for j in range(number_of_cities):\n",
    "            row.append(distance(cities[i], cities[j]))\n",
    "        distances.append(row)\n",
    "\n",
    "    acs = ACS(ant_count, generations, alpha, beta, rho, q)\n",
    "    graph = Graph(distances, number_of_cities)\n",
    "    start = time.time()\n",
    "    path, cost = acs.solve(graph)\n",
    "    end = time.time()\n",
    "    \n",
    "    print('COST: {},\\nPATH: {}'.format(cost, path))\n",
    "    print('TIME EXECUTION: {}'.format(end-start))\n",
    "    plot(points, path)\n"
   ]
  },
  {
   "cell_type": "code",
   "execution_count": 18,
   "metadata": {},
   "outputs": [
    {
     "name": "stdout",
     "output_type": "stream",
     "text": [
      "COST: 15818.193528359376,\n",
      "PATH: [13, 12, 11, 10, 22, 15, 4, 5, 6, 1, 3, 7, 8, 9, 2, 17, 16, 18, 23, 24, 19, 20, 21, 25, 27, 26, 29, 30, 28, 0, 14]\n",
      "TIME EXECUTION: 1.9329426288604736\n"
     ]
    },
    {
     "data": {
      "image/png": "[encoded data removed]",
      "text/plain": [
       "<Figure size 432x288 with 1 Axes>"
      ]
     },
     "metadata": {
      "needs_background": "light"
     },
     "output_type": "display_data"
    }
   ],
   "source": [
    "find_optimal_path(cities_31_file_name)"
   ]
  },
  {
   "cell_type": "code",
   "execution_count": 19,
   "metadata": {},
   "outputs": [
    {
     "name": "stdout",
     "output_type": "stream",
     "text": [
      "COST: 36472.28403978898,\n",
      "PATH: [4, 47, 38, 31, 20, 46, 10, 22, 13, 24, 12, 2, 21, 15, 0, 7, 8, 37, 30, 43, 17, 6, 27, 35, 29, 5, 36, 18, 26, 42, 16, 19, 32, 45, 14, 11, 39, 33, 40, 28, 1, 25, 3, 34, 44, 9, 23, 41]\n",
      "TIME EXECUTION: 4.64718222618103\n"
     ]
    },
    {
     "data": {
      "image/png": "[encoded data removed]",
      "text/plain": [
       "<Figure size 432x288 with 1 Axes>"
      ]
     },
     "metadata": {
      "needs_background": "light"
     },
     "output_type": "display_data"
    }
   ],
   "source": [
    "find_optimal_path(cities_48_file_name)"
   ]
  },
  {
   "cell_type": "code",
   "execution_count": 20,
   "metadata": {},
   "outputs": [
    {
     "name": "stdout",
     "output_type": "stream",
     "text": [
      "COST: 34785.4084651922,\n",
      "PATH: [16, 111, 110, 114, 20, 66, 115, 18, 67, 19, 47, 142, 65, 17, 113, 15, 64, 112, 62, 14, 4, 100, 80, 81, 32, 127, 97, 51, 52, 50, 1, 0, 96, 98, 2, 49, 3, 99, 6, 5, 53, 102, 8, 104, 7, 56, 105, 57, 106, 12, 59, 107, 108, 11, 60, 9, 101, 54, 58, 10, 103, 55, 22, 69, 21, 117, 68, 116, 71, 26, 74, 27, 118, 119, 23, 48, 25, 72, 73, 120, 24, 122, 123, 29, 76, 28, 129, 130, 85, 34, 83, 35, 128, 82, 109, 13, 63, 61, 43, 42, 139, 90, 45, 92, 44, 140, 46, 138, 91, 93, 94, 141, 41, 136, 135, 39, 89, 137, 87, 133, 143, 134, 95, 38, 125, 78, 77, 30, 79, 31, 126, 75, 86, 84, 132, 124, 36, 131, 37, 40, 88, 33, 121, 70]\n",
      "TIME EXECUTION: 49.87340569496155\n"
     ]
    },
    {
     "data": {
      "image/png": "[encoded data removed]",
      "text/plain": [
       "<Figure size 432x288 with 1 Axes>"
      ]
     },
     "metadata": {
      "needs_background": "light"
     },
     "output_type": "display_data"
    }
   ],
   "source": [
    "find_optimal_path(cities_144_file_name)"
   ]
  },
  {
   "cell_type": "code",
   "execution_count": null,
   "metadata": {},
   "outputs": [],
   "source": []
  }
 ],
 "metadata": {
  "kernelspec": {
   "display_name": "Python 3",
   "language": "python",
   "name": "python3"
  },
  "language_info": {
   "codemirror_mode": {
    "name": "ipython",
    "version": 3
   },
   "file_extension": ".py",
   "mimetype": "text/x-python",
   "name": "python",
   "nbconvert_exporter": "python",
   "pygments_lexer": "ipython3",
   "version": "3.6.8"
  }
 },
 "nbformat": 4,
 "nbformat_minor": 4
}

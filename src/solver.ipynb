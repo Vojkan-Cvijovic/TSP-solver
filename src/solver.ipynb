{
 "cells": [
  {
   "cell_type": "code",
   "execution_count": 2,
   "metadata": {},
   "outputs": [],
   "source": [
    "import random\n",
    "import math\n",
    "import jdc"
   ]
  },
  {
   "cell_type": "code",
   "execution_count": 6,
   "metadata": {},
   "outputs": [],
   "source": [
    "class Graph(object):\n",
    "    def __init__(self, distances: list, rank: int):\n",
    "        self.distances = distances\n",
    "        self.rank = rank\n",
    "        self.pheromone = [[1 / (rank * rank) for j in range(rank)] for i in range(rank)]\n"
   ]
  },
  {
   "cell_type": "code",
   "execution_count": 7,
   "metadata": {},
   "outputs": [],
   "source": [
    "class ACS(object):\n",
    "    def __init__(self, ant_count: int, generations: int, alpha: float, beta: float, rho: float, q: int):\n",
    "        self.generations = generations\n",
    "        self.ant_count = ant_count\n",
    "        self.alpha = alpha\n",
    "        self.beta = beta\n",
    "        self.rho = rho\n",
    "        self.Q = q        "
   ]
  },
  {
   "cell_type": "code",
   "execution_count": 8,
   "metadata": {},
   "outputs": [],
   "source": [
    "%%add_to ACS\n",
    "\n",
    "def _update_pheromone(self, graph: Graph, ants: list):\n",
    "        for i, row in enumerate(graph.pheromone):\n",
    "            for j, col in enumerate(row):\n",
    "                graph.pheromone[i][j] *= self.rho\n",
    "                for ant in ants:\n",
    "                    graph.pheromone[i][j] += ant.pheromone_delta[i][j]"
   ]
  },
  {
   "cell_type": "code",
   "execution_count": 9,
   "metadata": {},
   "outputs": [],
   "source": [
    "%%add_to ACS\n",
    "\n",
    "def solve(self, graph: Graph):\n",
    "        best_cost = float('inf')\n",
    "        best_solution = []\n",
    "        for gen in range(self.generations):\n",
    "            ants = [_Ant(self, graph) for i in range(self.ant_count)]\n",
    "            for ant in ants:\n",
    "                for i in range(graph.rank - 1):\n",
    "                    ant._select_next()\n",
    "                ant.total_cost += graph.distances[ant.visited_nodes[-1]][ant.visited_nodes[0]]\n",
    "                if ant.total_cost < best_cost:\n",
    "                    best_cost = ant.total_cost\n",
    "                    best_solution = [] + ant.visited_nodes\n",
    "                ant._update_pheromone_delta()\n",
    "            self._update_pheromone(graph, ants)\n",
    "        return best_solution, best_cost"
   ]
  },
  {
   "cell_type": "code",
   "execution_count": null,
   "metadata": {},
   "outputs": [],
   "source": [
    "class _Ant(object):\n",
    "    def __init__(self, acs: ACS, graph: Graph):\n",
    "        self.colony = acs\n",
    "        self.graph = graph\n",
    "        self.total_cost = 0.0\n",
    "        self.visited_nodes = []  # visited nodes list\n",
    "        self.pheromone_delta = []  # the local increase of pheromone\n",
    "        self.allowed_nodes = [i for i in range(graph.rank)]  # nodes which are allowed for the next selection\n",
    "        self.eta = [[0 if i == j else 1 / graph.distances[i][j] for j in range(graph.rank)] for i in\n",
    "                    range(graph.rank)]  # heuristic information\n",
    "        start_node = random.randint(0, graph.rank - 1)  # start from any node\n",
    "        self.visited_nodes.append(start_node)\n",
    "        self.current_node = start_node\n",
    "        self.allowed_nodes.remove(start_node)\n"
   ]
  },
  {
   "cell_type": "code",
   "execution_count": 10,
   "metadata": {},
   "outputs": [],
   "source": [
    "%%add_to _Ant\n",
    "def _select_next(self):\n",
    "    denominator = 0\n",
    "    for i in self.allowed_nodes:\n",
    "        denominator += self.graph.pheromone[self.current_node][i] ** self.colony.alpha * \\\n",
    "            self.eta[self.current_node][i] ** self.colony.beta\n",
    "\n",
    "    probabilities = [0 for i in range(self.graph.rank)]  # probabilities for moving to a node in the next step\n",
    "    for i in range(self.graph.rank):\n",
    "        try:\n",
    "            self.allowed_nodes.index(i)  # test if allowed list contains i\n",
    "            probabilities[i] = self.graph.pheromone[self.current_node][i] ** self.colony.alpha * \\\n",
    "                self.eta[self.current_node][i] ** self.colony.beta / denominator\n",
    "        except ValueError:\n",
    "            pass  # do nothing\n",
    "\n",
    "    # select next node by probability roulette\n",
    "    selected_node = 0\n",
    "    rand = random.random()\n",
    "    for i, probability in enumerate(probabilities):\n",
    "        rand -= probability\n",
    "        if rand <= 0:\n",
    "            selected_node = i\n",
    "            break\n",
    "\n",
    "    self.allowed_nodes.remove(selected_node)\n",
    "    self.visited_nodes.append(selected_node)\n",
    "    self.total_cost += self.graph.distances[self.current_node][selected_node]\n",
    "    self.current_node = selected_node"
   ]
  },
  {
   "cell_type": "code",
   "execution_count": null,
   "metadata": {},
   "outputs": [],
   "source": [
    "%%add_to _Ant\n",
    "def _update_pheromone_delta(self):\n",
    "        self.pheromone_delta = [[0 for j in range(self.graph.rank)] for i in range(self.graph.rank)]\n",
    "        for _ in range(1, len(self.visited_nodes)):\n",
    "            i = self.visited_nodes[_ - 1]\n",
    "            j = self.visited_nodes[_]\n",
    "            self.pheromone_delta[i][j] = self.colony.Q / self.total_cost"
   ]
  },
  {
   "cell_type": "code",
   "execution_count": 11,
   "metadata": {},
   "outputs": [],
   "source": [
    "def distance(city1: dict, city2: dict):\n",
    "    return math.sqrt((city1['x'] - city2['x']) ** 2 + (city1['y'] - city2['y']) ** 2)"
   ]
  },
  {
   "cell_type": "code",
   "execution_count": 12,
   "metadata": {},
   "outputs": [],
   "source": [
    "ant_count = 10\n",
    "generations = 100\n",
    "alpha = 1.0\n",
    "beta = 10.0\n",
    "rho = 0.5\n",
    "q = 10"
   ]
  },
  {
   "cell_type": "code",
   "execution_count": 13,
   "metadata": {},
   "outputs": [
    {
     "name": "stdout",
     "output_type": "stream",
     "text": [
      "cost: 15601.919532918737, path: [0, 14, 13, 11, 12, 10, 22, 15, 4, 5, 6, 1, 3, 7, 8, 9, 2, 17, 16, 18, 23, 24, 19, 20, 21, 25, 27, 26, 29, 30, 28]\n"
     ]
    }
   ],
   "source": [
    "cities = []\n",
    "points = []\n",
    "with open('./data/cities-v1.txt') as f:\n",
    "    for line in f.readlines():\n",
    "        city = line.split(' ')\n",
    "        cities.append(dict(index=int(city[0]), x=int(city[1]), y=int(city[2])))\n",
    "        points.append((int(city[1]), int(city[2])))\n",
    "distances = []\n",
    "number_of_cities = len(cities)\n",
    "for i in range(number_of_cities):\n",
    "    row = []\n",
    "    for j in range(number_of_cities):\n",
    "        row.append(distance(cities[i], cities[j]))\n",
    "    distances.append(row)\n",
    "\n",
    "acs = ACS(ant_count, generations, alpha, beta, rho, q)\n",
    "graph = Graph(distances, number_of_cities)\n",
    "path, cost = acs.solve(graph)\n",
    "print('cost: {}, path: {}'.format(cost, path))"
   ]
  },
  {
   "cell_type": "code",
   "execution_count": null,
   "metadata": {},
   "outputs": [],
   "source": []
  }
 ],
 "metadata": {
  "kernelspec": {
   "display_name": "Python 3",
   "language": "python",
   "name": "python3"
  },
  "language_info": {
   "codemirror_mode": {
    "name": "ipython",
    "version": 3
   },
   "file_extension": ".py",
   "mimetype": "text/x-python",
   "name": "python",
   "nbconvert_exporter": "python",
   "pygments_lexer": "ipython3",
   "version": "3.6.8"
  }
 },
 "nbformat": 4,
 "nbformat_minor": 4
}

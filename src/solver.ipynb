{
 "cells": [
  {
   "cell_type": "code",
   "execution_count": 13,
   "metadata": {},
   "outputs": [],
   "source": [
    "import random\n",
    "import math\n",
    "import jdc\n",
    "import operator\n",
    "\n",
    "import matplotlib.pyplot as plt"
   ]
  },
  {
   "cell_type": "code",
   "execution_count": 14,
   "metadata": {},
   "outputs": [],
   "source": [
    "class Graph(object):\n",
    "    def __init__(self, distances: list, rank: int):\n",
    "        self.distances = distances\n",
    "        self.rank = rank\n",
    "        self.pheromone = [[1 / (rank * rank) for j in range(rank)] for i in range(rank)]\n"
   ]
  },
  {
   "cell_type": "markdown",
   "metadata": {},
   "source": [
    "### Graph\n",
    "Wrapper class which holds general information about cities such as:\n",
    " - distances: Matrix of distance between each city.\n",
    " - rank: Number of cities, all cities are interconnected.\n",
    " - pheromone: Matrix of pheromone level between cities."
   ]
  },
  {
   "cell_type": "code",
   "execution_count": 15,
   "metadata": {},
   "outputs": [],
   "source": [
    "class ACS(object):\n",
    "    def __init__(self, ant_count: int, generations: int, alpha: float, beta: float, rho: float, q: int):\n",
    "        self.generations = generations\n",
    "        self.ant_count = ant_count\n",
    "        self.alpha = alpha\n",
    "        self.beta = beta\n",
    "        self.rho = rho\n",
    "        self.Q = q        "
   ]
  },
  {
   "cell_type": "markdown",
   "metadata": {},
   "source": [
    "### ACS\n",
    "Ant Colony System is a system which will be used to solve TSP problem with ACO optimization.\n",
    " - generations: Number of generations that will be created.\n",
    " - ant_count: Number of ants that will be created in each generation.\n",
    " - alpha: Positive metaparameter which determines phermone influence.\n",
    " - beta: Positive metaparameter which determines distance influence.\n",
    " - rho: Positive metaparameter in range(0, 1).\n",
    " - Q: Positive metaparameter.\n",
    " \n",
    "(TODO explain metaparameters in more details)"
   ]
  },
  {
   "cell_type": "code",
   "execution_count": 16,
   "metadata": {},
   "outputs": [],
   "source": [
    "%%add_to ACS\n",
    "\n",
    "def update_pheromone(self, graph: Graph, ants: list):\n",
    "        for i, row in enumerate(graph.pheromone):\n",
    "            for j, col in enumerate(row):\n",
    "                sum_ants_pheromone_delta = 0\n",
    "                for ant in ants:\n",
    "                    sum_ants_pheromone_delta += ant.pheromone_delta[i][j]\n",
    "                graph.pheromone[i][j] = (1 - self.rho) * graph.pheromone[i][j] + sum_ants_pheromone_delta"
   ]
  },
  {
   "cell_type": "markdown",
   "metadata": {},
   "source": [
    "### Updating pheromone\n",
    "Method which updates matrix of pheromone levels between each city by using formulas:\n",
    "\n",
    "$$t_{i,j} = (1-\\rho) * t_{i,j} + \\Delta t_{i,j}$$\n",
    "\n",
    "$$\\Delta t_{i,j}  = \\sum_{k=1}^{m} \\Delta t^k_{i,j}$$\n",
    "\n"
   ]
  },
  {
   "cell_type": "code",
   "execution_count": 17,
   "metadata": {},
   "outputs": [],
   "source": [
    "%%add_to ACS\n",
    "\n",
    "def solve(self, graph: Graph):\n",
    "        best_cost = float('inf')\n",
    "        best_solution = []\n",
    "        for _ in range(self.generations):\n",
    "            ants = [Ant(self, graph) for i in range(self.ant_count)]\n",
    "            for ant in ants:\n",
    "                for i in range(graph.rank - 1):\n",
    "                    ant.select_next_node()\n",
    "                ant.total_cost += graph.distances[ant.visited_nodes[-1]][ant.visited_nodes[0]]\n",
    "                if ant.total_cost < best_cost:\n",
    "                    best_cost = ant.total_cost\n",
    "                    best_solution = [] + ant.visited_nodes\n",
    "                ant.update_pheromone_delta()\n",
    "            self.update_pheromone(graph, ants)\n",
    "        return best_solution, best_cost"
   ]
  },
  {
   "cell_type": "markdown",
   "metadata": {},
   "source": [
    "### Solve\n",
    "Method which finds best solution and best traverse cost for solving TSP on given graph.\n",
    "\n",
    "It creates specified number of generations and within each generation specified number of ants. \n",
    "These ants are traversing through entire Graph, visiting each Node only once. In the process ants are storing total traverse cost and order of visited nodes.\n",
    "In the end each ant is updating it's pheromone_delta which will be used for updating pheromone level in entire system.\n",
    "\n",
    "After each generation paths which were frequently traversed by ants will have larger amounts of pheromone."
   ]
  },
  {
   "cell_type": "code",
   "execution_count": 18,
   "metadata": {},
   "outputs": [],
   "source": [
    "class Ant(object):\n",
    "    def __init__(self, acs: ACS, graph: Graph):\n",
    "        self.colony = acs\n",
    "        self.graph = graph\n",
    "        self.total_cost = 0.0\n",
    "        self.visited_nodes = []\n",
    "        self.pheromone_delta = []\n",
    "        self.unvisited_nodes = [i for i in range(graph.rank)]\n",
    "        start_node = random.randint(0, graph.rank - 1)\n",
    "        self.visited_nodes.append(start_node)\n",
    "        self.current_node = start_node\n",
    "        self.unvisited_nodes.remove(start_node)\n"
   ]
  },
  {
   "cell_type": "markdown",
   "metadata": {},
   "source": [
    "### Ant \n",
    "\n",
    "Class which represents ant in system. It contains fields which defer between ants.\n",
    " - colony: Ant Colony System in which ant is created.\n",
    " - graph: Graph for which ant is being used.\n",
    " - total_cost: Distance/cost of path ant traversed.\n",
    " - visited_nodes: Order in which ant traversed nodes.\n",
    " - pheromone_delta: Amount of pheromone single ant produces.\n",
    " - unvisited_nodes: List of nodes ant has not yet visited.\n",
    " - current_node: Index of node Ant is visiting. Initial node is selected by random.\n",
    " - eta: \n",
    " \n"
   ]
  },
  {
   "cell_type": "code",
   "execution_count": 19,
   "metadata": {},
   "outputs": [],
   "source": [
    "%%add_to Ant\n",
    "def select_next_node(self):\n",
    "    denominator = 0\n",
    "    for i in self.unvisited_nodes:\n",
    "        denominator += self.graph.pheromone[self.current_node][i] ** self.colony.alpha * \\\n",
    "            self.graph.distances[self.current_node][i] ** (-1 * self.colony.beta )\n",
    "\n",
    "    probabilities = [0 for i in range(self.graph.rank)]\n",
    "    for i in range(self.graph.rank):\n",
    "        try:\n",
    "            self.unvisited_nodes.index(i)  # test if allowed list contains i\n",
    "            probabilities[i] = self.graph.pheromone[self.current_node][i] ** self.colony.alpha * \\\n",
    "                self.graph.distances[self.current_node][i] ** (-1 * self.colony.beta) / denominator\n",
    "        except ValueError:\n",
    "            pass\n",
    "\n",
    "    # select next node by probability roulette\n",
    "    selected_node = 0\n",
    "    rand = random.random()\n",
    "    for i, probability in enumerate(probabilities):\n",
    "        rand -= probability\n",
    "        if rand <= 0:\n",
    "            selected_node = i\n",
    "            break\n",
    "\n",
    "    self.unvisited_nodes.remove(selected_node)\n",
    "    self.visited_nodes.append(selected_node)\n",
    "    self.total_cost += self.graph.distances[self.current_node][selected_node]\n",
    "    self.current_node = selected_node\n",
    "    "
   ]
  },
  {
   "cell_type": "markdown",
   "metadata": {},
   "source": [
    "### Select next node\n",
    "\n",
    "Calculates probability for each not yet visited node to be visited by ant. Probability is determined by formula:\n",
    "\n",
    "$$p_{i,j} = {t_{i,j}^\\alpha * distance_{i,j}^{-\\beta} \\over \\sum_{l \\in J_k}^{} t_{i,j}^\\alpha * distance_{i,j}^{-\\beta} }$$\n",
    "\n",
    "Where Jk is list of not yet visited nodes\n"
   ]
  },
  {
   "cell_type": "code",
   "execution_count": 20,
   "metadata": {},
   "outputs": [],
   "source": [
    "%%add_to Ant\n",
    "def update_pheromone_delta(self):\n",
    "        self.pheromone_delta = [[0 for j in range(self.graph.rank)] for i in range(self.graph.rank)]\n",
    "        for _ in range(1, len(self.visited_nodes)):\n",
    "            i = self.visited_nodes[_ - 1]\n",
    "            j = self.visited_nodes[_]\n",
    "            self.pheromone_delta[i][j] = self.colony.Q / self.total_cost"
   ]
  },
  {
   "cell_type": "markdown",
   "metadata": {},
   "source": [
    "### Update pheromone delta\n",
    "\n",
    "Updates ant's pheromone delta by initializing to 0 and only updating it for neighbour nodes by formula:\n",
    "\n",
    "$$\\Delta t^k_{i,j} = Q/L_k$$\n",
    "\n",
    "Where Lk is traversed distance and Q is metaparameter"
   ]
  },
  {
   "cell_type": "code",
   "execution_count": 21,
   "metadata": {},
   "outputs": [],
   "source": [
    "def distance(city1: dict, city2: dict):\n",
    "    return math.sqrt((city1['x'] - city2['x']) ** 2 + (city1['y'] - city2['y']) ** 2)"
   ]
  },
  {
   "cell_type": "code",
   "execution_count": 22,
   "metadata": {},
   "outputs": [],
   "source": [
    "def plot(points, path: list):\n",
    "    x = []\n",
    "    y = []\n",
    "    for point in points:\n",
    "        x.append(point[0])\n",
    "        y.append(point[1])\n",
    "    # noinspection PyUnusedLocal\n",
    "    y = list(map(operator.sub, [max(y) for i in range(len(points))], y))\n",
    "    plt.plot(x, y, 'co')\n",
    "\n",
    "    for _ in range(1, len(path)):\n",
    "        i = path[_ - 1]\n",
    "        j = path[_]\n",
    "        # noinspection PyUnresolvedReferences\n",
    "        plt.arrow(x[i], y[i], x[j] - x[i], y[j] - y[i], color='r', length_includes_head=True)\n",
    "\n",
    "    # noinspection PyTypeChecker\n",
    "    plt.xlim(0, max(x) * 1.1)\n",
    "    # noinspection PyTypeChecker\n",
    "    plt.ylim(0, max(y) * 1.1)\n",
    "    plt.show()"
   ]
  },
  {
   "cell_type": "code",
   "execution_count": 23,
   "metadata": {},
   "outputs": [],
   "source": [
    "ant_count = 10\n",
    "generations = 100\n",
    "alpha = 1.0\n",
    "beta = 10.0\n",
    "rho = 0.5\n",
    "q = 10"
   ]
  },
  {
   "cell_type": "code",
   "execution_count": 30,
   "metadata": {},
   "outputs": [
    {
     "name": "stdout",
     "output_type": "stream",
     "text": [
      "cost: 16167.77153844502, path: [6, 1, 3, 15, 4, 5, 22, 10, 11, 13, 12, 14, 0, 28, 29, 30, 26, 27, 25, 24, 23, 19, 20, 21, 17, 2, 16, 18, 7, 8, 9]\n"
     ]
    }
   ],
   "source": [
    "cities = []\n",
    "points = []\n",
    "with open('./data/cities-v1.txt') as f:\n",
    "    for line in f.readlines():\n",
    "        city = line.split(' ')\n",
    "        cities.append(dict(index=int(city[0]), x=int(city[1]), y=int(city[2])))\n",
    "        points.append((int(city[1]), int(city[2])))\n",
    "distances = []\n",
    "number_of_cities = len(cities)\n",
    "for i in range(number_of_cities):\n",
    "    row = []\n",
    "    for j in range(number_of_cities):\n",
    "        row.append(distance(cities[i], cities[j]))\n",
    "    distances.append(row)\n",
    "\n",
    "acs = ACS(ant_count, generations, alpha, beta, rho, q)\n",
    "graph = Graph(distances, number_of_cities)\n",
    "path, cost = acs.solve(graph)\n",
    "print('cost: {}, path: {}'.format(cost, path))\n"
   ]
  },
  {
   "cell_type": "code",
   "execution_count": 31,
   "metadata": {},
   "outputs": [
    {
     "data": {
      "image/png": "[encoded data removed]",
      "text/plain": [
       "<Figure size 432x288 with 1 Axes>"
      ]
     },
     "metadata": {
      "needs_background": "light"
     },
     "output_type": "display_data"
    }
   ],
   "source": [
    "plot(points, path)"
   ]
  },
  {
   "cell_type": "code",
   "execution_count": null,
   "metadata": {},
   "outputs": [],
   "source": []
  }
 ],
 "metadata": {
  "kernelspec": {
   "display_name": "Python 3",
   "language": "python",
   "name": "python3"
  },
  "language_info": {
   "codemirror_mode": {
    "name": "ipython",
    "version": 3
   },
   "file_extension": ".py",
   "mimetype": "text/x-python",
   "name": "python",
   "nbconvert_exporter": "python",
   "pygments_lexer": "ipython3",
   "version": "3.6.8"
  }
 },
 "nbformat": 4,
 "nbformat_minor": 4
}
